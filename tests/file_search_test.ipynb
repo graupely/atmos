{
 "cells": [
  {
   "cell_type": "code",
   "execution_count": 1,
   "metadata": {},
   "outputs": [],
   "source": [
    "import sys\n",
    "sys.path.append('../')\n",
    "from config_model_output import ModelOutput"
   ]
  },
  {
   "cell_type": "code",
   "execution_count": 2,
   "metadata": {},
   "outputs": [
    {
     "name": "stdout",
     "output_type": "stream",
     "text": [
      "Valid file found: ../fake_main_for_test/wrfout_test/d02/wrfout_d02_2017-08-05_20:20:00\n",
      "Setting attributes 'valid_files' and 'unread_files'\n"
     ]
    }
   ],
   "source": [
    "# Test of wrf search\n",
    "# file location is ../fake_main_for_test/wrfout_test/wrfout_d02_2017-08-05_20:20:00\n",
    "main_dir = '../fake_main_for_test'\n",
    "sub_dir = \"wrfout_\"\n",
    "valid_time = \"2017-08-05_20:20:00\"\n",
    "domain = \"d02\"\n",
    "\n",
    "wrf_test = ModelOutput(\"WRF \", \"Netcdf   \", main_dir, sub_dir,\n",
    "                                 valid_time, domain)\n",
    "\n",
    "wrf_test.find_valid_files()"
   ]
  },
  {
   "cell_type": "code",
   "execution_count": 3,
   "metadata": {},
   "outputs": [
    {
     "name": "stdout",
     "output_type": "stream",
     "text": [
      "Valid file found: ../fake_main_for_test/hrrr/2017080520/hrrr.t20z.wrfnatf00.grib2\n",
      "Setting attributes 'valid_files' and 'unread_files'\n",
      "Additional valid file found: ../fake_main_for_test/hrrr/2017080520/hrrr.t18z.wrfnatf02.grib2, files in 'valid_files' sorted by forecast length\n",
      "Additional valid file found: ../fake_main_for_test/hrrr/2017080520/hrrr.t16z.wrfnatf04.grib2, files in 'valid_files' sorted by forecast length\n",
      "Additional valid file found: ../fake_main_for_test/hrrr/2017080520/hrrr.t08z.wrfnatf12.grib2, files in 'valid_files' sorted by forecast length\n"
     ]
    }
   ],
   "source": [
    "# Test of hrrr search\n",
    "# file location is ../fake_main_for_test/hrrr/2017080520/\n",
    "# multiple valid files exist, the first being hrrr.t20z.wrfnatf00.grib2\n",
    "main_dir = '../fake_main_for_test'\n",
    "sub_dir = \"hrrr\"\n",
    "valid_time = \"2017080520\"\n",
    "\n",
    "wrf_test = ModelOutput(\"hrrr\", \"grib2\", main_dir, sub_dir,\n",
    "                                 valid_time)\n",
    "\n",
    "wrf_test.find_valid_files()"
   ]
  },
  {
   "cell_type": "code",
   "execution_count": 4,
   "metadata": {},
   "outputs": [
    {
     "name": "stdout",
     "output_type": "stream",
     "text": [
      "Valid file found: ../fake_main_for_test/rrfs/2017011515/dynf006.nc\n",
      "Setting attributes 'valid_files' and 'unread_files'\n"
     ]
    }
   ],
   "source": [
    "# Test of rrfs search\n",
    "# file location is ../fake_main_for_test/rrfs/2017011515/dynf009.nc\n",
    "main_dir = '../fake_main_for_test'\n",
    "sub_dir = \"rrfs\"\n",
    "valid_time = \"2017011521\"\n",
    "\n",
    "wrf_test = ModelOutput(\"rrfs\", \"netcdf\", main_dir, sub_dir,\n",
    "                                 valid_time)\n",
    "\n",
    "wrf_test.find_valid_files()"
   ]
  },
  {
   "cell_type": "code",
   "execution_count": 5,
   "metadata": {},
   "outputs": [
    {
     "name": "stdout",
     "output_type": "stream",
     "text": [
      "Valid file found: ../fake_main_for_test/rrfs/2017011515/dynf000.nc\n",
      "Setting attributes 'valid_files' and 'unread_files'\n"
     ]
    }
   ],
   "source": [
    "# Test of rrfs search\n",
    "# file location is ../fake_main_for_test/rrfs/2017011515/dynf009.nc\n",
    "main_dir = '../fake_main_for_test'\n",
    "sub_dir = \"rrfs\"\n",
    "valid_time = \"2017011515\"\n",
    "\n",
    "wrf_test = ModelOutput(\"rrfs\", \"netcdf\", main_dir, sub_dir,\n",
    "                                 valid_time)\n",
    "\n",
    "wrf_test.find_valid_files()"
   ]
  }
 ],
 "metadata": {
  "kernelspec": {
   "display_name": "Python 3",
   "language": "python",
   "name": "python3"
  },
  "language_info": {
   "codemirror_mode": {
    "name": "ipython",
    "version": 3
   },
   "file_extension": ".py",
   "mimetype": "text/x-python",
   "name": "python",
   "nbconvert_exporter": "python",
   "pygments_lexer": "ipython3",
   "version": "3.7.9"
  }
 },
 "nbformat": 4,
 "nbformat_minor": 4
}
